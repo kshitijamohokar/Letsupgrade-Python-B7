{
 "cells": [
  {
   "cell_type": "markdown",
   "metadata": {},
   "source": [
    "# Question 1 \n",
    "\n",
    "Create a bank account class that has two attributes OwnerName and Balance and two methods deposit and withdraw. \n",
    "As an added requirement withdrawals may not exceed the available balance. \n",
    "Instantiate your class make several deposits and withdrawals and test to make sure the account cant be overdrawn. "
   ]
  },
  {
   "cell_type": "code",
   "execution_count": 1,
   "metadata": {},
   "outputs": [],
   "source": [
    "class bank() :\n",
    "    def __init__(self, owner, balance = 0) :\n",
    "        self.owner = owner\n",
    "        self.balance = balance\n",
    "    \n",
    "    def deposit(self, balance) :\n",
    "        self.balance+= balance\n",
    "        return self.balance\n",
    "    \n",
    "    def withdraw(self, balance) :\n",
    "            if self.balance >= balance :\n",
    "                self.balance-= balance\n",
    "            else :\n",
    "                return \"Your Bank Account Balance is\" + str(self.balance) + ', so you can not withdrawn' \n",
    "            return self.balance \n",
    "    \n",
    "bankAccount = bank('kshitu', 40000)"
   ]
  },
  {
   "cell_type": "code",
   "execution_count": 2,
   "metadata": {},
   "outputs": [
    {
     "data": {
      "text/plain": [
       "45000"
      ]
     },
     "execution_count": 2,
     "metadata": {},
     "output_type": "execute_result"
    }
   ],
   "source": [
    "bankAccount.deposit(5000) "
   ]
  },
  {
   "cell_type": "code",
   "execution_count": 3,
   "metadata": {},
   "outputs": [
    {
     "data": {
      "text/plain": [
       "35000"
      ]
     },
     "execution_count": 3,
     "metadata": {},
     "output_type": "execute_result"
    }
   ],
   "source": [
    "bankAccount.withdraw(10000)"
   ]
  },
  {
   "cell_type": "markdown",
   "metadata": {},
   "source": [
    "# Question 2\n",
    "\n",
    "For this challenge create a cone class that has two attributes Radius and height and two methods volume and surface area. Make only one class with function, as in where required import math.\n"
   ]
  },
  {
   "cell_type": "code",
   "execution_count": 23,
   "metadata": {},
   "outputs": [],
   "source": [
    "import math\n",
    "pi =math.pi \n",
    "\n",
    "class Cone() :\n",
    "    def __init__(self, radius, height) :\n",
    "        self.radius = radius \n",
    "        self.height = height \n",
    "        \n",
    "    def volume(self) :\n",
    "        self.volume = math.pi * self.radius * self.radius * (self.height /3)\n",
    "        return self.volume\n",
    "    \n",
    "    def surface_area_cone(self) :\n",
    "        base = math.pi * self.radius *self.radius \n",
    "        side = math.pi * self.radius * math.sqrt(self.radius**2 + self.height **2)\n",
    "        self.surface_area = base + side\n",
    "        return self.surface_area\n",
    "    "
   ]
  },
  {
   "cell_type": "code",
   "execution_count": 24,
   "metadata": {},
   "outputs": [],
   "source": [
    "check = Cone(15,2) "
   ]
  },
  {
   "cell_type": "code",
   "execution_count": 25,
   "metadata": {},
   "outputs": [
    {
     "data": {
      "text/plain": [
       "471.23889803846896"
      ]
     },
     "execution_count": 25,
     "metadata": {},
     "output_type": "execute_result"
    }
   ],
   "source": [
    "check.volume() "
   ]
  },
  {
   "cell_type": "code",
   "execution_count": 26,
   "metadata": {},
   "outputs": [
    {
     "data": {
      "text/plain": [
       "1419.9721996549792"
      ]
     },
     "execution_count": 26,
     "metadata": {},
     "output_type": "execute_result"
    }
   ],
   "source": [
    "check.surface_area_cone() "
   ]
  },
  {
   "cell_type": "code",
   "execution_count": null,
   "metadata": {},
   "outputs": [],
   "source": []
  },
  {
   "cell_type": "code",
   "execution_count": null,
   "metadata": {},
   "outputs": [],
   "source": []
  }
 ],
 "metadata": {
  "kernelspec": {
   "display_name": "Python 3",
   "language": "python",
   "name": "python3"
  },
  "language_info": {
   "codemirror_mode": {
    "name": "ipython",
    "version": 3
   },
   "file_extension": ".py",
   "mimetype": "text/x-python",
   "name": "python",
   "nbconvert_exporter": "python",
   "pygments_lexer": "ipython3",
   "version": "3.8.3"
  }
 },
 "nbformat": 4,
 "nbformat_minor": 4
}
