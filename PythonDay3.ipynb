{
  "nbformat": 4,
  "nbformat_minor": 0,
  "metadata": {
    "colab": {
      "name": "PythonDay3.ipynb",
      "provenance": [],
      "authorship_tag": "ABX9TyO+Xzq/eOhvDAL+kPnI8wBV",
      "include_colab_link": true
    },
    "kernelspec": {
      "name": "python3",
      "display_name": "Python 3"
    }
  },
  "cells": [
    {
      "cell_type": "markdown",
      "metadata": {
        "id": "view-in-github",
        "colab_type": "text"
      },
      "source": [
        "<a href=\"https://colab.research.google.com/github/kshitijamohokar/Letsupgrade-python-B7/blob/master/PythonDay3.ipynb\" target=\"_parent\"><img src=\"https://colab.research.google.com/assets/colab-badge.svg\" alt=\"Open In Colab\"/></a>"
      ]
    },
    {
      "cell_type": "markdown",
      "metadata": {
        "id": "1WCMHmpDxY5M",
        "colab_type": "text"
      },
      "source": [
        "Question 1.\n",
        "\n",
        "Consider you  all are pilot you want to land a plane safely. So altitude required for landing the plane is 1000ft. It is less than tell pilot to land the plane or it is more than that bit less than 5000ft ask the pilot to \"come down to 1000ft\" else if it more than 5000ft ask the pilot to \"go around and try later\""
      ]
    },
    {
      "cell_type": "code",
      "metadata": {
        "id": "qAnuMmbrwa2x",
        "colab_type": "code",
        "colab": {
          "base_uri": "https://localhost:8080/",
          "height": 51
        },
        "outputId": "125cbc8f-96f7-4b22-8149-3c26e889761f"
      },
      "source": [
        " \n",
        "num = input(\"enter the altitude \") \n",
        " \n",
        "num = int(num)\n",
        " \n",
        "if num<=1000 :\n",
        " \n",
        "    print(\"Safe to land\") \n",
        " \n",
        "elif num<5000 :\n",
        " \n",
        "    print(\"Bring down to 1000ft\")\n",
        " \n",
        "else :\n",
        " \n",
        "    print(\"Turn around\")"
      ],
      "execution_count": 6,
      "outputs": [
        {
          "output_type": "stream",
          "text": [
            "enter the altitude 6500\n",
            "Turn around\n"
          ],
          "name": "stdout"
        }
      ]
    },
    {
      "cell_type": "markdown",
      "metadata": {
        "id": "eV-v8oQCxtAy",
        "colab_type": "text"
      },
      "source": [
        "Question 2\n",
        " \n",
        "Using for loop and range function print all the prime number between 0-200"
      ]
    },
    {
      "cell_type": "code",
      "metadata": {
        "id": "7TuRRpPUx0jl",
        "colab_type": "code",
        "colab": {
          "base_uri": "https://localhost:8080/",
          "height": 825
        },
        "outputId": "3041e31e-e961-4e12-b86d-63b6f68dbb40"
      },
      "source": [
        " \n",
        "lower = 0\n",
        " \n",
        "upper = 200\n",
        " \n",
        "print(\"Prime numbers between\", lower, \"and\", upper, \"are:\")\n",
        " \n",
        "for num in range(lower, upper + 1):\n",
        " \n",
        "   if num > 1:\n",
        " \n",
        "       for i in range(2, num):\n",
        " \n",
        "           if (num % i) == 0:\n",
        " \n",
        "               break\n",
        " \n",
        "       else:\n",
        " \n",
        "           print(num)"
      ],
      "execution_count": 7,
      "outputs": [
        {
          "output_type": "stream",
          "text": [
            "Prime numbers between 0 and 200 are:\n",
            "2\n",
            "3\n",
            "5\n",
            "7\n",
            "11\n",
            "13\n",
            "17\n",
            "19\n",
            "23\n",
            "29\n",
            "31\n",
            "37\n",
            "41\n",
            "43\n",
            "47\n",
            "53\n",
            "59\n",
            "61\n",
            "67\n",
            "71\n",
            "73\n",
            "79\n",
            "83\n",
            "89\n",
            "97\n",
            "101\n",
            "103\n",
            "107\n",
            "109\n",
            "113\n",
            "127\n",
            "131\n",
            "137\n",
            "139\n",
            "149\n",
            "151\n",
            "157\n",
            "163\n",
            "167\n",
            "173\n",
            "179\n",
            "181\n",
            "191\n",
            "193\n",
            "197\n",
            "199\n"
          ],
          "name": "stdout"
        }
      ]
    }
  ]
}