{
 "cells": [
  {
   "cell_type": "markdown",
   "metadata": {},
   "source": [
    "# List\n",
    "Que 1. List and its default function. "
   ]
  },
  {
   "cell_type": "code",
   "execution_count": 9,
   "metadata": {},
   "outputs": [
    {
     "name": "stdout",
     "output_type": "stream",
     "text": [
      "['kshitija', 27, 12, 1997]\n"
     ]
    }
   ],
   "source": [
    "lst = [\"kshitija\", 27, 12, 1997]\n",
    "print(lst) "
   ]
  },
  {
   "cell_type": "code",
   "execution_count": 19,
   "metadata": {},
   "outputs": [
    {
     "name": "stdout",
     "output_type": "stream",
     "text": [
      "['kshitija', 27, 12, 1997, 'mohokar']\n"
     ]
    }
   ],
   "source": [
    "#1. append \n",
    "\n",
    "lst = [\"kshitija\", 27, 12, 1997] \n",
    "lst.append(\"mohokar\")\n",
    "print(lst) "
   ]
  },
  {
   "cell_type": "code",
   "execution_count": 20,
   "metadata": {},
   "outputs": [
    {
     "name": "stdout",
     "output_type": "stream",
     "text": [
      "4\n"
     ]
    }
   ],
   "source": [
    "#2. len\n",
    "\n",
    "lst = [\"kshitija\", 27, 12, 1997]\n",
    "print(len(lst)) \n"
   ]
  },
  {
   "cell_type": "code",
   "execution_count": 23,
   "metadata": {},
   "outputs": [
    {
     "name": "stdout",
     "output_type": "stream",
     "text": [
      "[27, 12, 1997]\n"
     ]
    }
   ],
   "source": [
    "#3. pop\n",
    "\n",
    "lst = [\"kshitija\", 27, 12, 1997] \n",
    "lst.pop(0) \n",
    "print(lst) "
   ]
  },
  {
   "cell_type": "code",
   "execution_count": 24,
   "metadata": {},
   "outputs": [
    {
     "name": "stdout",
     "output_type": "stream",
     "text": [
      "['kshitija', 'mohokar', 27, 12, 1997]\n"
     ]
    }
   ],
   "source": [
    "#4. insert\n",
    "\n",
    "lst = [\"kshitija\", 27, 12, 1997] \n",
    "lst.insert(1, \"mohokar\") \n",
    "print(lst) "
   ]
  },
  {
   "cell_type": "code",
   "execution_count": 26,
   "metadata": {},
   "outputs": [
    {
     "name": "stdout",
     "output_type": "stream",
     "text": [
      "1997\n"
     ]
    }
   ],
   "source": [
    "#5. max\n",
    "\n",
    "lst = [27, 12, 1997] \n",
    "print(max(lst)) "
   ]
  },
  {
   "cell_type": "code",
   "execution_count": 27,
   "metadata": {},
   "outputs": [
    {
     "name": "stdout",
     "output_type": "stream",
     "text": [
      "12\n"
     ]
    }
   ],
   "source": [
    "#6. min\n",
    "\n",
    "lst = [27, 12, 1997] \n",
    "print(min(lst)) "
   ]
  },
  {
   "cell_type": "code",
   "execution_count": 28,
   "metadata": {},
   "outputs": [
    {
     "name": "stdout",
     "output_type": "stream",
     "text": [
      "['kshitija', 27, 12, 1997, 'mohokar', 13, 10, 1995]\n"
     ]
    }
   ],
   "source": [
    "#7. extend \n",
    "\n",
    "lst1 = [\"kshitija\", 27, 12, 1997]\n",
    "lst2 = [\"mohokar\", 13, 10, 1995]\n",
    "lst1.extend(lst2)\n",
    "print(lst1) \n"
   ]
  },
  {
   "cell_type": "markdown",
   "metadata": {},
   "source": [
    "# Dictionary \n",
    "Que 2. Dictionary and its default function. "
   ]
  },
  {
   "cell_type": "code",
   "execution_count": 14,
   "metadata": {},
   "outputs": [
    {
     "name": "stdout",
     "output_type": "stream",
     "text": [
      "{'Name': 'kshitija', 'Age': 23, 'Class': 'Msc'}\n"
     ]
    }
   ],
   "source": [
    "dict = {\"Name\" : \"kshitija\", \"Age\" : 23, \"Class\" : \"Msc\"} \n",
    "print(dict) "
   ]
  },
  {
   "cell_type": "code",
   "execution_count": 11,
   "metadata": {},
   "outputs": [
    {
     "name": "stdout",
     "output_type": "stream",
     "text": [
      "3\n"
     ]
    }
   ],
   "source": [
    "#1. len\n",
    "\n",
    "dict = {\"Name\" : \"kshitija\" , \"Age\" : 23, \"Class\" : \"Msc\"}\n",
    "print(len(dict)) "
   ]
  },
  {
   "cell_type": "code",
   "execution_count": 12,
   "metadata": {},
   "outputs": [
    {
     "name": "stdout",
     "output_type": "stream",
     "text": [
      "{'Name': 'kshitija', 'Age': 23, 'Class': 'Msc'}\n"
     ]
    }
   ],
   "source": [
    "#2. str(dict) \n",
    "\n",
    "dict = {\"Name\" : \"kshitija\", \"Age\" : 23, \"Class\" : \"Msc\"} \n",
    "print(str(dict)) "
   ]
  },
  {
   "cell_type": "code",
   "execution_count": 5,
   "metadata": {},
   "outputs": [
    {
     "name": "stdout",
     "output_type": "stream",
     "text": [
      "<class 'dict'>\n"
     ]
    }
   ],
   "source": [
    "#3. type\n",
    "\n",
    "dict = {\"Name\" : \"kshitija\", \"Age\" : 23, \"Class\" : \"Msc\"} \n",
    "print(type(dict)) "
   ]
  },
  {
   "cell_type": "code",
   "execution_count": 13,
   "metadata": {},
   "outputs": [
    {
     "name": "stdout",
     "output_type": "stream",
     "text": [
      "True\n"
     ]
    }
   ],
   "source": [
    "#4. any\n",
    "\n",
    "dict ={\"Name\" : \"kshitija\", \"Age\" : 23, \"Class\" : \"Msc\"} \n",
    "print(any(dict)) "
   ]
  },
  {
   "cell_type": "code",
   "execution_count": 7,
   "metadata": {},
   "outputs": [
    {
     "name": "stdout",
     "output_type": "stream",
     "text": [
      "True\n"
     ]
    }
   ],
   "source": [
    "#5. all\n",
    "\n",
    "dict = {\"Name\" : \"kshitija\", \"Age\" : 23, \"Class\" : \"Msc\"} \n",
    "print(all(dict)) "
   ]
  },
  {
   "cell_type": "code",
   "execution_count": 8,
   "metadata": {},
   "outputs": [
    {
     "name": "stdout",
     "output_type": "stream",
     "text": [
      "['Age', 'Class', 'Name']\n"
     ]
    }
   ],
   "source": [
    "#6. sorted\n",
    "\n",
    "dict = {\"Name\" : \"kshitija\", \"Age\" : 23, \"Class\" : \"Msc\"}\n",
    "print(sorted(dict)) "
   ]
  },
  {
   "cell_type": "code",
   "execution_count": 15,
   "metadata": {},
   "outputs": [
    {
     "name": "stdout",
     "output_type": "stream",
     "text": [
      "kshitija\n"
     ]
    }
   ],
   "source": [
    "#7. get \n",
    "\n",
    "dict = {\"Name\" : \"kshitija\", \"Age\" : 23, \"Class\" : \"Msc\"} \n",
    "print(dict.get(\"Name\"))"
   ]
  },
  {
   "cell_type": "markdown",
   "metadata": {},
   "source": [
    "# Sets\n",
    "Que 3. Sets and its default function. "
   ]
  },
  {
   "cell_type": "code",
   "execution_count": 16,
   "metadata": {},
   "outputs": [
    {
     "name": "stdout",
     "output_type": "stream",
     "text": [
      "{'mohokar', 'kshitija', 12, 1997, 27}\n"
     ]
    }
   ],
   "source": [
    "st = {\"kshitija\", \"mohokar\", 27, 12, 1997} \n",
    "print(st) "
   ]
  },
  {
   "cell_type": "code",
   "execution_count": 17,
   "metadata": {},
   "outputs": [
    {
     "name": "stdout",
     "output_type": "stream",
     "text": [
      "{27, 12, 1997}\n"
     ]
    }
   ],
   "source": [
    "#1. intersection \n",
    "\n",
    "st1 = {\"kshitija\", \"mohokar\", 27, 12, 1997} \n",
    "st2 = {27, 12, 1997, \"Radha\", \"Kale\"} \n",
    "print(st1.intersection(st2))"
   ]
  },
  {
   "cell_type": "code",
   "execution_count": 19,
   "metadata": {},
   "outputs": [
    {
     "name": "stdout",
     "output_type": "stream",
     "text": [
      "False\n"
     ]
    }
   ],
   "source": [
    "#2. issubset \n",
    "\n",
    "st1 = {\"kshitija\", \"mohokar\", 27, 12, 1997} \n",
    "st2 = {\"kshitija\", 1997}\n",
    "print(st1.issubset(st2))"
   ]
  },
  {
   "cell_type": "code",
   "execution_count": 20,
   "metadata": {},
   "outputs": [
    {
     "name": "stdout",
     "output_type": "stream",
     "text": [
      "{'mohokar', 'kshitija', 11, 12, 1997, 13, 1995, 27}\n"
     ]
    }
   ],
   "source": [
    "#3. Union\n",
    "\n",
    "st1 = {\"kshitija\", 27, 12, 1997} \n",
    "st2 = {\"mohokar\", 13, 11, 1995}\n",
    "print(st1.union(st2))"
   ]
  },
  {
   "cell_type": "code",
   "execution_count": 25,
   "metadata": {},
   "outputs": [
    {
     "name": "stdout",
     "output_type": "stream",
     "text": [
      "{27, 12, 1997}\n"
     ]
    }
   ],
   "source": [
    "#4. remove\n",
    "\n",
    "st = {\"kshitija\", 27, 12, 1997} \n",
    "st.remove(\"kshitija\") \n",
    "print(st) "
   ]
  },
  {
   "cell_type": "code",
   "execution_count": 26,
   "metadata": {},
   "outputs": [
    {
     "name": "stdout",
     "output_type": "stream",
     "text": [
      "{'mohokar', 1, 'kshitija', 27, 12, 1997}\n"
     ]
    }
   ],
   "source": [
    "#5. update \n",
    "\n",
    "st1 = {\"kshitija\", 27, 12, 1997} \n",
    "st2 = {\"mohokar\", 1}\n",
    "st1.update(st2) \n",
    "print(st1) "
   ]
  },
  {
   "cell_type": "markdown",
   "metadata": {},
   "source": [
    "# Tuple\n",
    "Que 4. Tuple and explore its default method. "
   ]
  },
  {
   "cell_type": "code",
   "execution_count": 27,
   "metadata": {},
   "outputs": [
    {
     "name": "stdout",
     "output_type": "stream",
     "text": [
      "('kshitija', 'mohokar', 27, 12, 1997)\n"
     ]
    }
   ],
   "source": [
    "tup = (\"kshitija\", \"mohokar\", 27, 12, 1997) \n",
    "print(tup) "
   ]
  },
  {
   "cell_type": "code",
   "execution_count": 31,
   "metadata": {},
   "outputs": [
    {
     "name": "stdout",
     "output_type": "stream",
     "text": [
      "2\n"
     ]
    }
   ],
   "source": [
    "#1. count\n",
    "\n",
    "tup = (\"kshitija\", \"mohokar\", \"kshitija\", 27, 12, 1997) \n",
    "print(tup.count(\"kshitija\"))"
   ]
  },
  {
   "cell_type": "code",
   "execution_count": 35,
   "metadata": {},
   "outputs": [
    {
     "name": "stdout",
     "output_type": "stream",
     "text": [
      "2\n"
     ]
    }
   ],
   "source": [
    "#2. index\n",
    "\n",
    "tup = (\"kshitija\", \"mohokar\", 27, 12, 1997)\n",
    "print(tup.index(27)) \n"
   ]
  },
  {
   "cell_type": "code",
   "execution_count": 37,
   "metadata": {},
   "outputs": [
    {
     "name": "stdout",
     "output_type": "stream",
     "text": [
      "4\n"
     ]
    }
   ],
   "source": [
    "#3. len\n",
    "\n",
    "tup = (\"kshitija\", 27, 12, 1997) \n",
    "print(len(tup)) "
   ]
  },
  {
   "cell_type": "code",
   "execution_count": 39,
   "metadata": {},
   "outputs": [
    {
     "name": "stdout",
     "output_type": "stream",
     "text": [
      "1997\n"
     ]
    }
   ],
   "source": [
    "#4. max\n",
    "\n",
    "tup = (11, 27, 12, 1997) \n",
    "print(max(tup)) "
   ]
  },
  {
   "cell_type": "code",
   "execution_count": 1,
   "metadata": {},
   "outputs": [
    {
     "name": "stdout",
     "output_type": "stream",
     "text": [
      "11\n"
     ]
    }
   ],
   "source": [
    "#5. min\n",
    "\n",
    "tup = (11, 27, 12, 1997) \n",
    "print(min(tup)) "
   ]
  },
  {
   "cell_type": "markdown",
   "metadata": {},
   "source": [
    "# String \n",
    "Que 5. String and explore its default method. "
   ]
  },
  {
   "cell_type": "code",
   "execution_count": 1,
   "metadata": {},
   "outputs": [
    {
     "name": "stdout",
     "output_type": "stream",
     "text": [
      "hello, i am Kshitija\n"
     ]
    }
   ],
   "source": [
    "str = \"hello, i am Kshitija\" \n",
    "print(str) "
   ]
  },
  {
   "cell_type": "code",
   "execution_count": 4,
   "metadata": {},
   "outputs": [
    {
     "name": "stdout",
     "output_type": "stream",
     "text": [
      "Hello, i am kshitija\n"
     ]
    }
   ],
   "source": [
    "#1. Capitalize \n",
    "\n",
    "str = \"hello, i am Kshitija\" \n",
    "print(str.capitalize())"
   ]
  },
  {
   "cell_type": "code",
   "execution_count": 5,
   "metadata": {},
   "outputs": [
    {
     "name": "stdout",
     "output_type": "stream",
     "text": [
      "12\n"
     ]
    }
   ],
   "source": [
    "#2. Index\n",
    "\n",
    "str = \"hello, i am kshitija\" \n",
    "print(str.index(\"kshitija\")) "
   ]
  },
  {
   "cell_type": "code",
   "execution_count": 7,
   "metadata": {},
   "outputs": [
    {
     "name": "stdout",
     "output_type": "stream",
     "text": [
      "hello, i am kshitija\n"
     ]
    }
   ],
   "source": [
    "#3. lower\n",
    "\n",
    "str = \"Hello, I am KSHITIJA\" \n",
    "print(str.lower())"
   ]
  },
  {
   "cell_type": "code",
   "execution_count": 8,
   "metadata": {},
   "outputs": [
    {
     "name": "stdout",
     "output_type": "stream",
     "text": [
      "Hello, I Am Kshitija\n"
     ]
    }
   ],
   "source": [
    "#4. title \n",
    "\n",
    "str = \"hello, i am kshitija\" \n",
    "print(str.title())"
   ]
  },
  {
   "cell_type": "code",
   "execution_count": 10,
   "metadata": {},
   "outputs": [
    {
     "name": "stdout",
     "output_type": "stream",
     "text": [
      "          hello, i am kshitija          \n"
     ]
    }
   ],
   "source": [
    "#5. center\n",
    "\n",
    "str = \"hello, i am kshitija\" \n",
    "print(str.center(40))"
   ]
  }
 ],
 "metadata": {
  "kernelspec": {
   "display_name": "Python 3",
   "language": "python",
   "name": "python3"
  },
  "language_info": {
   "codemirror_mode": {
    "name": "ipython",
    "version": 3
   },
   "file_extension": ".py",
   "mimetype": "text/x-python",
   "name": "python",
   "nbconvert_exporter": "python",
   "pygments_lexer": "ipython3",
   "version": "3.8.3"
  }
 },
 "nbformat": 4,
 "nbformat_minor": 4
}
