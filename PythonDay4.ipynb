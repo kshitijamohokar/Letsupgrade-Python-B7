{
 "cells": [
  {
   "cell_type": "markdown",
   "metadata": {},
   "source": [
    "# Question \n",
    "\n",
    "Print the first Armstrong number in the range of 1042000 to 702648265 and exit the loop as soon as you encounter the first Armstrong number."
   ]
  },
  {
   "cell_type": "code",
   "execution_count": 1,
   "metadata": {},
   "outputs": [
    {
     "name": "stdout",
     "output_type": "stream",
     "text": [
      "First Armstrong number is: 1741725\n"
     ]
    }
   ],
   "source": [
    "\n",
    "lower = 1042000\n",
    "\n",
    "upper = 702648265\n",
    "\n",
    "for num in range(lower, upper + 1):\n",
    "\n",
    "    order = len(str(num))\n",
    "\n",
    "    sum = 0\n",
    "\n",
    "    temp = num\n",
    "\n",
    "    while temp > 0:\n",
    "\n",
    "        digit = temp % 10\n",
    "\n",
    "        sum += digit ** order\n",
    "\n",
    "        temp //= 10\n",
    "\n",
    "    if num == sum:\n",
    "\n",
    "        print(\"First Armstrong number is:\", num) \n",
    "\n",
    "        break"
   ]
  }
 ],
 "metadata": {
  "kernelspec": {
   "display_name": "Python 3",
   "language": "python",
   "name": "python3"
  },
  "language_info": {
   "codemirror_mode": {
    "name": "ipython",
    "version": 3
   },
   "file_extension": ".py",
   "mimetype": "text/x-python",
   "name": "python",
   "nbconvert_exporter": "python",
   "pygments_lexer": "ipython3",
   "version": "3.8.3"
  }
 },
 "nbformat": 4,
 "nbformat_minor": 4
}
